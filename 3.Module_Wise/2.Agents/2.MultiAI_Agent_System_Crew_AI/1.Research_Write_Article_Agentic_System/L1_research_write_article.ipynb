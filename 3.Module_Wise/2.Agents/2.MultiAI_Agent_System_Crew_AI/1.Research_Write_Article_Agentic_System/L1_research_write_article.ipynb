{
 "cells": [
  {
   "cell_type": "markdown",
   "metadata": {},
   "source": [
    "# L2: Create Agents to Research and Write an Article\n",
    "\n",
    "In this lesson, you will be introduced to the foundational concepts of multi-agent systems and get an overview of the crewAI framework."
   ]
  },
  {
   "cell_type": "code",
   "execution_count": 1,
   "metadata": {
    "height": 64
   },
   "outputs": [],
   "source": [
    "# Warning control\n",
    "import warnings\n",
    "warnings.filterwarnings('ignore')"
   ]
  },
  {
   "cell_type": "markdown",
   "metadata": {},
   "source": [
    "- Import from the crewAI libray."
   ]
  },
  {
   "cell_type": "code",
   "execution_count": 2,
   "metadata": {
    "height": 30
   },
   "outputs": [],
   "source": [
    "from crewai import Agent, Task, Crew"
   ]
  },
  {
   "cell_type": "markdown",
   "metadata": {},
   "source": [
    "- As a LLM for your agents, you'll be using OpenAI's `gpt-3.5-turbo`.\n",
    "\n",
    "**Optional Note:** crewAI also allow other popular models to be used as a LLM for your Agents. You can see some of the examples at the [bottom of the notebook](#1)."
   ]
  },
  {
   "cell_type": "code",
   "execution_count": 3,
   "metadata": {
    "height": 98
   },
   "outputs": [],
   "source": [
    "import os\n",
    "from utils import get_openai_api_key\n",
    "\n",
    "openai_api_key = get_openai_api_key()\n",
    "os.environ[\"OPENAI_MODEL_NAME\"] = 'gpt-3.5-turbo'"
   ]
  },
  {
   "cell_type": "markdown",
   "metadata": {},
   "source": [
    "## Creating Agents\n",
    "\n",
    "- Define your Agents, and provide them a `role`, `goal` and `backstory`.\n",
    "- It has been seen that LLMs perform better when they are role playing.\n",
    "\n",
    "We will create 3 different Agents - Planner , Writer , Editor"
   ]
  },
  {
   "cell_type": "markdown",
   "metadata": {},
   "source": [
    "### Agent: Planner\n",
    "\n",
    "**Note**: The benefit of using _multiple strings_ :\n",
    "```Python\n",
    "varname = \"line 1 of text\"\n",
    "          \"line 2 of text\"\n",
    "```\n",
    "\n",
    "versus the _triple quote docstring_:\n",
    "```Python\n",
    "varname = \"\"\"line 1 of text\n",
    "             line 2 of text\n",
    "          \"\"\"\n",
    "```\n",
    "is that it can avoid adding those whitespaces and newline characters, making it better formatted to be passed to the LLM."
   ]
  },
  {
   "cell_type": "code",
   "execution_count": 4,
   "metadata": {
    "height": 234
   },
   "outputs": [],
   "source": [
    "planner = Agent(\n",
    "    role=\"Content Planner\",\n",
    "    goal=\"Plan engaging and factually accurate content on {topic}\",\n",
    "    backstory=\"You're working on planning a blog article \"\n",
    "              \"about the topic: {topic}.\"\n",
    "              \"You collect information that helps the \"\n",
    "              \"audience learn something \"\n",
    "              \"and make informed decisions. \"\n",
    "              \"Your work is the basis for \"\n",
    "              \"the Content Writer to write an article on this topic.\",\n",
    "    allow_delegation=False, ### This agent is not allowed to delegte their task to other agents\n",
    "\tverbose=True\n",
    ")"
   ]
  },
  {
   "cell_type": "markdown",
   "metadata": {},
   "source": [
    "### Agent: Writer"
   ]
  },
  {
   "cell_type": "code",
   "execution_count": 5,
   "metadata": {
    "height": 370
   },
   "outputs": [],
   "source": [
    "writer = Agent(\n",
    "    role=\"Content Writer\",\n",
    "    goal=\"Write insightful and factually accurate \"\n",
    "         \"opinion piece about the topic: {topic}\",\n",
    "    backstory=\"You're working on a writing \"\n",
    "              \"a new opinion piece about the topic: {topic}. \"\n",
    "              \"You base your writing on the work of \"\n",
    "              \"the Content Planner, who provides an outline \"\n",
    "              \"and relevant context about the topic. \"\n",
    "              \"You follow the main objectives and \"\n",
    "              \"direction of the outline, \"\n",
    "              \"as provide by the Content Planner. \"\n",
    "              \"You also provide objective and impartial insights \"\n",
    "              \"and back them up with information \"\n",
    "              \"provide by the Content Planner. \"\n",
    "              \"You acknowledge in your opinion piece \"\n",
    "              \"when your statements are opinions \"\n",
    "              \"as opposed to objective statements.\",\n",
    "    allow_delegation=False,\n",
    "    verbose=True\n",
    ")"
   ]
  },
  {
   "cell_type": "markdown",
   "metadata": {},
   "source": [
    "### Agent: Editor"
   ]
  },
  {
   "cell_type": "code",
   "execution_count": 6,
   "metadata": {
    "height": 268
   },
   "outputs": [],
   "source": [
    "editor = Agent(\n",
    "    role=\"Editor\",\n",
    "    goal=\"Edit a given blog post to align with \"\n",
    "         \"the writing style of the organization. \",\n",
    "    backstory=\"You are an editor who receives a blog post \"\n",
    "              \"from the Content Writer. \"\n",
    "              \"Your goal is to review the blog post \"\n",
    "              \"to ensure that it follows journalistic best practices,\"\n",
    "              \"provides balanced viewpoints \"\n",
    "              \"when providing opinions or assertions, \"\n",
    "              \"and also avoids major controversial topics \"\n",
    "              \"or opinions when possible.\",\n",
    "    allow_delegation=False,\n",
    "    verbose=True\n",
    ")"
   ]
  },
  {
   "cell_type": "markdown",
   "metadata": {},
   "source": [
    "## Creating Tasks\n",
    "\n",
    "So we have created agents but we dont have any task to guide them . So we will create 3 Tasks - Plan,Write,Edit\n",
    "\n",
    "- Define your Tasks, and provide them a `description`, `expected_output` and `agent`."
   ]
  },
  {
   "cell_type": "markdown",
   "metadata": {},
   "source": [
    "### Task: Plan"
   ]
  },
  {
   "cell_type": "code",
   "execution_count": 7,
   "metadata": {
    "height": 302
   },
   "outputs": [],
   "source": [
    "### What do you expext your Planner Agent to do \n",
    "\n",
    "plan = Task(\n",
    "    description=(\n",
    "        \"1. Prioritize the latest trends, key players, \"\n",
    "            \"and noteworthy news on {topic}.\\n\"\n",
    "        \"2. Identify the target audience, considering \"\n",
    "            \"their interests and pain points.\\n\"\n",
    "        \"3. Develop a detailed content outline including \"\n",
    "            \"an introduction, key points, and a call to action.\\n\"\n",
    "        \"4. Include SEO keywords and relevant data or sources.\"\n",
    "    ),\n",
    "    expected_output=\"A comprehensive content plan document \"\n",
    "        \"with an outline, audience analysis, \"\n",
    "        \"SEO keywords, and resources.\",\n",
    "    agent=planner,\n",
    ")"
   ]
  },
  {
   "cell_type": "markdown",
   "metadata": {},
   "source": [
    "### Task: Write"
   ]
  },
  {
   "cell_type": "code",
   "execution_count": 8,
   "metadata": {
    "height": 319
   },
   "outputs": [],
   "source": [
    "write = Task(\n",
    "    description=(\n",
    "        \"1. Use the content plan to craft a compelling \"\n",
    "            \"blog post on {topic}.\\n\"\n",
    "        \"2. Incorporate SEO keywords naturally.\\n\"\n",
    "\t\t\"3. Sections/Subtitles are properly named \"\n",
    "            \"in an engaging manner.\\n\"\n",
    "        \"4. Ensure the post is structured with an \"\n",
    "            \"engaging introduction, insightful body, \"\n",
    "            \"and a summarizing conclusion.\\n\"\n",
    "        \"5. Proofread for grammatical errors and \"\n",
    "            \"alignment with the brand's voice.\\n\"\n",
    "    ),\n",
    "    expected_output=\"A well-written blog post \"\n",
    "        \"in markdown format, ready for publication, \"\n",
    "        \"each section should have 2 or 3 paragraphs.\",\n",
    "    agent=writer,\n",
    ")"
   ]
  },
  {
   "cell_type": "markdown",
   "metadata": {},
   "source": [
    "### Task: Edit"
   ]
  },
  {
   "cell_type": "code",
   "execution_count": 9,
   "metadata": {
    "height": 166
   },
   "outputs": [],
   "source": [
    "edit = Task(\n",
    "    description=(\"Proofread the given blog post for \"\n",
    "                 \"grammatical errors and \"\n",
    "                 \"alignment with the brand's voice.\"),\n",
    "    expected_output=\"A well-written blog post in markdown format, \"\n",
    "                    \"ready for publication, \"\n",
    "                    \"each section should have 2 or 3 paragraphs.\",\n",
    "    agent=editor\n",
    ")"
   ]
  },
  {
   "cell_type": "markdown",
   "metadata": {},
   "source": [
    "## Creating the Crew\n",
    "\n",
    "- Create your crew of Agents\n",
    "- Pass the tasks to be performed by those agents.\n",
    "    - **Note**: *For this simple example*, the tasks will be performed sequentially (i.e they are dependent on each other), so the _order_ of the task in the list _matters_.\n",
    "- `verbose=2` allows you to see all the logs of the execution. \n",
    "\n",
    "By default crew operates sequentially . So order of tasks list is important . \n",
    "\n",
    "Here plan will execute first followed by write and edit (Because output of plan will be sent as an input to write . And output of write will be sent as an input to edit)"
   ]
  },
  {
   "cell_type": "code",
   "execution_count": 10,
   "metadata": {
    "height": 98
   },
   "outputs": [],
   "source": [
    "crew = Crew(\n",
    "    agents=[planner, writer, editor],\n",
    "    tasks=[plan, write, edit],\n",
    "    verbose=2\n",
    ")"
   ]
  },
  {
   "cell_type": "markdown",
   "metadata": {},
   "source": [
    "## Running the Crew"
   ]
  },
  {
   "cell_type": "markdown",
   "metadata": {},
   "source": [
    "**Note**: LLMs can provide different outputs for they same input, so what you get might be different than what you see in the video."
   ]
  },
  {
   "cell_type": "code",
   "execution_count": 11,
   "metadata": {
    "height": 30
   },
   "outputs": [
    {
     "name": "stdout",
     "output_type": "stream",
     "text": [
      "\u001b[1m\u001b[95m [DEBUG]: == Working Agent: Content Planner\u001b[00m\n",
      "\u001b[1m\u001b[95m [INFO]: == Starting Task: 1. Prioritize the latest trends, key players, and noteworthy news on Artificial Intelligence.\n",
      "2. Identify the target audience, considering their interests and pain points.\n",
      "3. Develop a detailed content outline including an introduction, key points, and a call to action.\n",
      "4. Include SEO keywords and relevant data or sources.\u001b[00m\n",
      "\n",
      "\n",
      "\u001b[1m> Entering new CrewAgentExecutor chain...\u001b[0m\n",
      "\u001b[32;1m\u001b[1;3mI now can give a great answer\n",
      "\n",
      "Final Answer: \n",
      "\n",
      "Title: The Future of Artificial Intelligence: Trends, Players, and News\n",
      "\n",
      "Introduction:\n",
      "- Brief overview of the rapid growth and impact of artificial intelligence in various industries\n",
      "- Introduction to the latest trends, key players, and noteworthy news in the AI field\n",
      "\n",
      "Key Points:\n",
      "1. Latest Trends in Artificial Intelligence:\n",
      "- Machine learning advancements\n",
      "- Natural language processing developments\n",
      "- AI in healthcare, finance, and transportation industries\n",
      "- Ethical considerations in AI development\n",
      "\n",
      "2. Key Players in Artificial Intelligence:\n",
      "- Google Brain\n",
      "- OpenAI\n",
      "- IBM Watson\n",
      "- Microsoft Azure AI\n",
      "- NVIDIA\n",
      "\n",
      "3. Noteworthy News in Artificial Intelligence:\n",
      "- Breakthroughs in AI-powered healthcare diagnostics\n",
      "- AI-driven customer service improvements\n",
      "- Ethical debates surrounding AI decision-making processes\n",
      "- AI's role in sustainability and climate change solutions\n",
      "\n",
      "Audience Analysis:\n",
      "- Target Audience: Professionals in technology, business leaders, students interested in AI\n",
      "- Interests: Staying updated on the latest AI trends, learning about key players in the industry, understanding the impact of AI on society\n",
      "- Pain Points: Keeping up with rapidly evolving AI technologies, navigating ethical dilemmas in AI development, identifying practical applications of AI in different industries\n",
      "\n",
      "Content Outline:\n",
      "- Introduction to Artificial Intelligence Trends\n",
      "- Overview of Key Players in the AI Industry\n",
      "- Noteworthy News in Artificial Intelligence\n",
      "- Ethical Considerations in AI Development\n",
      "- Call to Action: Encouraging readers to stay informed on AI developments and engage in discussions on AI ethics\n",
      "\n",
      "SEO Keywords:\n",
      "- Artificial Intelligence trends 2021\n",
      "- Key players in AI industry\n",
      "- Latest news in artificial intelligence\n",
      "- AI ethical considerations\n",
      "- Impact of AI on society\n",
      "\n",
      "Resources:\n",
      "- Forbes: \"Top Artificial Intelligence Trends to Watch in 2021\"\n",
      "- TechCrunch: \"Meet the Key Players in the AI Industry\"\n",
      "- Harvard Business Review: \"Ethics in Artificial Intelligence Development\"\n",
      "- World Economic Forum: \"The Fourth Industrial Revolution: Artificial Intelligence\" \n",
      "\n",
      "Overall, this blog article will provide a comprehensive overview of the latest trends, key players, and noteworthy news in the field of artificial intelligence. It will cater to the interests and pain points of the target audience while incorporating relevant SEO keywords and credible resources for further exploration.\u001b[0m\n",
      "\n",
      "\u001b[1m> Finished chain.\u001b[0m\n",
      "\u001b[1m\u001b[92m [DEBUG]: == [Content Planner] Task output: Title: The Future of Artificial Intelligence: Trends, Players, and News\n",
      "\n",
      "Introduction:\n",
      "- Brief overview of the rapid growth and impact of artificial intelligence in various industries\n",
      "- Introduction to the latest trends, key players, and noteworthy news in the AI field\n",
      "\n",
      "Key Points:\n",
      "1. Latest Trends in Artificial Intelligence:\n",
      "- Machine learning advancements\n",
      "- Natural language processing developments\n",
      "- AI in healthcare, finance, and transportation industries\n",
      "- Ethical considerations in AI development\n",
      "\n",
      "2. Key Players in Artificial Intelligence:\n",
      "- Google Brain\n",
      "- OpenAI\n",
      "- IBM Watson\n",
      "- Microsoft Azure AI\n",
      "- NVIDIA\n",
      "\n",
      "3. Noteworthy News in Artificial Intelligence:\n",
      "- Breakthroughs in AI-powered healthcare diagnostics\n",
      "- AI-driven customer service improvements\n",
      "- Ethical debates surrounding AI decision-making processes\n",
      "- AI's role in sustainability and climate change solutions\n",
      "\n",
      "Audience Analysis:\n",
      "- Target Audience: Professionals in technology, business leaders, students interested in AI\n",
      "- Interests: Staying updated on the latest AI trends, learning about key players in the industry, understanding the impact of AI on society\n",
      "- Pain Points: Keeping up with rapidly evolving AI technologies, navigating ethical dilemmas in AI development, identifying practical applications of AI in different industries\n",
      "\n",
      "Content Outline:\n",
      "- Introduction to Artificial Intelligence Trends\n",
      "- Overview of Key Players in the AI Industry\n",
      "- Noteworthy News in Artificial Intelligence\n",
      "- Ethical Considerations in AI Development\n",
      "- Call to Action: Encouraging readers to stay informed on AI developments and engage in discussions on AI ethics\n",
      "\n",
      "SEO Keywords:\n",
      "- Artificial Intelligence trends 2021\n",
      "- Key players in AI industry\n",
      "- Latest news in artificial intelligence\n",
      "- AI ethical considerations\n",
      "- Impact of AI on society\n",
      "\n",
      "Resources:\n",
      "- Forbes: \"Top Artificial Intelligence Trends to Watch in 2021\"\n",
      "- TechCrunch: \"Meet the Key Players in the AI Industry\"\n",
      "- Harvard Business Review: \"Ethics in Artificial Intelligence Development\"\n",
      "- World Economic Forum: \"The Fourth Industrial Revolution: Artificial Intelligence\" \n",
      "\n",
      "Overall, this blog article will provide a comprehensive overview of the latest trends, key players, and noteworthy news in the field of artificial intelligence. It will cater to the interests and pain points of the target audience while incorporating relevant SEO keywords and credible resources for further exploration.\n",
      "\n",
      "\u001b[00m\n",
      "\u001b[1m\u001b[95m [DEBUG]: == Working Agent: Content Writer\u001b[00m\n",
      "\u001b[1m\u001b[95m [INFO]: == Starting Task: 1. Use the content plan to craft a compelling blog post on Artificial Intelligence.\n",
      "2. Incorporate SEO keywords naturally.\n",
      "3. Sections/Subtitles are properly named in an engaging manner.\n",
      "4. Ensure the post is structured with an engaging introduction, insightful body, and a summarizing conclusion.\n",
      "5. Proofread for grammatical errors and alignment with the brand's voice.\n",
      "\u001b[00m\n",
      "\n",
      "\n",
      "\u001b[1m> Entering new CrewAgentExecutor chain...\u001b[0m\n",
      "\u001b[32;1m\u001b[1;3mI now can give a great answer\n",
      "\n",
      "Final Answer: \n",
      "\n",
      "# The Future of Artificial Intelligence: Trends, Players, and News\n",
      "\n",
      "## Introduction\n",
      "\n",
      "Artificial intelligence (AI) has been rapidly growing and making a significant impact across various industries. From healthcare to finance and transportation, AI is revolutionizing the way businesses operate and how we interact with technology. In this blog post, we will explore the latest trends, key players, and noteworthy news in the AI field, shedding light on the advancements that are shaping the future of AI technology.\n",
      "\n",
      "## Latest Trends in Artificial Intelligence\n",
      "\n",
      "One of the most significant trends in AI is the continuous advancements in machine learning. This technology allows machines to learn from data and improve their performance over time, making AI systems more intelligent and efficient. Additionally, natural language processing (NLP) developments have enabled AI to understand and generate human language, leading to breakthroughs in areas such as virtual assistants and language translation.\n",
      "\n",
      "AI is also making waves in industries like healthcare, finance, and transportation. In healthcare, AI-powered diagnostics are improving accuracy and efficiency in disease detection, leading to better patient outcomes. In finance, AI is being used for fraud detection and risk management, enhancing security and compliance measures. In transportation, AI is driving innovations in autonomous vehicles and smart traffic management systems, revolutionizing the way we commute.\n",
      "\n",
      "As AI technology continues to advance, ethical considerations have become a crucial aspect of AI development. Questions around data privacy, bias in AI algorithms, and the societal impact of AI systems are hot topics in the field. It is essential for AI developers and users to navigate these ethical dilemmas responsibly to ensure that AI technology is used for the greater good of society.\n",
      "\n",
      "## Key Players in Artificial Intelligence\n",
      "\n",
      "Several key players are driving innovation and shaping the AI industry. Google Brain, known for its research in deep learning and AI applications, has been at the forefront of AI advancements. OpenAI, a research organization focused on developing safe AI, is pioneering breakthroughs in machine learning and AI ethics. IBM Watson, Microsoft Azure AI, and NVIDIA are also major players in the AI space, providing cutting-edge AI solutions to businesses and consumers worldwide.\n",
      "\n",
      "## Noteworthy News in Artificial Intelligence\n",
      "\n",
      "Recent news in the AI field has highlighted the impact of AI-powered healthcare diagnostics, with breakthroughs in disease detection and treatment. AI-driven customer service improvements are also making waves, with virtual assistants and chatbots enhancing customer experiences. Ethical debates surrounding AI decision-making processes are sparking discussions on the responsible use of AI technology, while AI's role in sustainability and climate change solutions is offering new possibilities for addressing environmental challenges.\n",
      "\n",
      "## Ethical Considerations in AI Development\n",
      "\n",
      "As AI technology becomes more pervasive in our daily lives, addressing ethical considerations in AI development is critical. From ensuring transparent and accountable AI decision-making processes to mitigating bias in AI algorithms, ethical guidelines are essential for the responsible deployment of AI systems. Organizations and policymakers must collaborate to establish ethical frameworks that prioritize the well-being of individuals and society at large.\n",
      "\n",
      "## Call to Action\n",
      "\n",
      "In conclusion, staying informed on the latest AI trends and engaging in discussions on AI ethics is crucial for professionals in technology, business leaders, and students interested in AI. By understanding the latest trends, key players, and ethical considerations in AI development, we can harness the power of AI technology for positive societal impact. Let's continue to explore the potential of AI and work towards a future where AI innovation is driven by ethical principles and human values.\n",
      "\n",
      "---\n",
      "This blog post offers a comprehensive overview of the current landscape of artificial intelligence, covering the latest trends, key players, noteworthy news, and ethical considerations in the AI industry. By incorporating insights from credible sources and addressing the interests and pain points of the target audience, this article aims to provide valuable information and spark meaningful conversations around the future of AI technology.\u001b[0m\n",
      "\n",
      "\u001b[1m> Finished chain.\u001b[0m\n",
      "\u001b[1m\u001b[92m [DEBUG]: == [Content Writer] Task output: # The Future of Artificial Intelligence: Trends, Players, and News\n",
      "\n",
      "## Introduction\n",
      "\n",
      "Artificial intelligence (AI) has been rapidly growing and making a significant impact across various industries. From healthcare to finance and transportation, AI is revolutionizing the way businesses operate and how we interact with technology. In this blog post, we will explore the latest trends, key players, and noteworthy news in the AI field, shedding light on the advancements that are shaping the future of AI technology.\n",
      "\n",
      "## Latest Trends in Artificial Intelligence\n",
      "\n",
      "One of the most significant trends in AI is the continuous advancements in machine learning. This technology allows machines to learn from data and improve their performance over time, making AI systems more intelligent and efficient. Additionally, natural language processing (NLP) developments have enabled AI to understand and generate human language, leading to breakthroughs in areas such as virtual assistants and language translation.\n",
      "\n",
      "AI is also making waves in industries like healthcare, finance, and transportation. In healthcare, AI-powered diagnostics are improving accuracy and efficiency in disease detection, leading to better patient outcomes. In finance, AI is being used for fraud detection and risk management, enhancing security and compliance measures. In transportation, AI is driving innovations in autonomous vehicles and smart traffic management systems, revolutionizing the way we commute.\n",
      "\n",
      "As AI technology continues to advance, ethical considerations have become a crucial aspect of AI development. Questions around data privacy, bias in AI algorithms, and the societal impact of AI systems are hot topics in the field. It is essential for AI developers and users to navigate these ethical dilemmas responsibly to ensure that AI technology is used for the greater good of society.\n",
      "\n",
      "## Key Players in Artificial Intelligence\n",
      "\n",
      "Several key players are driving innovation and shaping the AI industry. Google Brain, known for its research in deep learning and AI applications, has been at the forefront of AI advancements. OpenAI, a research organization focused on developing safe AI, is pioneering breakthroughs in machine learning and AI ethics. IBM Watson, Microsoft Azure AI, and NVIDIA are also major players in the AI space, providing cutting-edge AI solutions to businesses and consumers worldwide.\n",
      "\n",
      "## Noteworthy News in Artificial Intelligence\n",
      "\n",
      "Recent news in the AI field has highlighted the impact of AI-powered healthcare diagnostics, with breakthroughs in disease detection and treatment. AI-driven customer service improvements are also making waves, with virtual assistants and chatbots enhancing customer experiences. Ethical debates surrounding AI decision-making processes are sparking discussions on the responsible use of AI technology, while AI's role in sustainability and climate change solutions is offering new possibilities for addressing environmental challenges.\n",
      "\n",
      "## Ethical Considerations in AI Development\n",
      "\n",
      "As AI technology becomes more pervasive in our daily lives, addressing ethical considerations in AI development is critical. From ensuring transparent and accountable AI decision-making processes to mitigating bias in AI algorithms, ethical guidelines are essential for the responsible deployment of AI systems. Organizations and policymakers must collaborate to establish ethical frameworks that prioritize the well-being of individuals and society at large.\n",
      "\n",
      "## Call to Action\n",
      "\n",
      "In conclusion, staying informed on the latest AI trends and engaging in discussions on AI ethics is crucial for professionals in technology, business leaders, and students interested in AI. By understanding the latest trends, key players, and ethical considerations in AI development, we can harness the power of AI technology for positive societal impact. Let's continue to explore the potential of AI and work towards a future where AI innovation is driven by ethical principles and human values.\n",
      "\n",
      "---\n",
      "This blog post offers a comprehensive overview of the current landscape of artificial intelligence, covering the latest trends, key players, noteworthy news, and ethical considerations in the AI industry. By incorporating insights from credible sources and addressing the interests and pain points of the target audience, this article aims to provide valuable information and spark meaningful conversations around the future of AI technology.\n",
      "\n",
      "\u001b[00m\n",
      "\u001b[1m\u001b[95m [DEBUG]: == Working Agent: Editor\u001b[00m\n",
      "\u001b[1m\u001b[95m [INFO]: == Starting Task: Proofread the given blog post for grammatical errors and alignment with the brand's voice.\u001b[00m\n",
      "\n",
      "\n",
      "\u001b[1m> Entering new CrewAgentExecutor chain...\u001b[0m\n"
     ]
    },
    {
     "name": "stdout",
     "output_type": "stream",
     "text": [
      "\u001b[32;1m\u001b[1;3mI now can give a great answer.\n",
      "\n",
      "Final Answer:\n",
      "# The Future of Artificial Intelligence: Trends, Players, and News\n",
      "\n",
      "## Introduction\n",
      "\n",
      "Artificial intelligence (AI) has been rapidly growing and making a significant impact across various industries. From healthcare to finance and transportation, AI is revolutionizing the way businesses operate and how we interact with technology. In this blog post, we will explore the latest trends, key players, and noteworthy news in the AI field, shedding light on the advancements that are shaping the future of AI technology.\n",
      "\n",
      "## Latest Trends in Artificial Intelligence\n",
      "\n",
      "One of the most significant trends in AI is the continuous advancements in machine learning. This technology allows machines to learn from data and improve their performance over time, making AI systems more intelligent and efficient. Additionally, natural language processing (NLP) developments have enabled AI to understand and generate human language, leading to breakthroughs in areas such as virtual assistants and language translation.\n",
      "\n",
      "AI is also making waves in industries like healthcare, finance, and transportation. In healthcare, AI-powered diagnostics are improving accuracy and efficiency in disease detection, leading to better patient outcomes. In finance, AI is being used for fraud detection and risk management, enhancing security and compliance measures. In transportation, AI is driving innovations in autonomous vehicles and smart traffic management systems, revolutionizing the way we commute.\n",
      "\n",
      "As AI technology continues to advance, ethical considerations have become a crucial aspect of AI development. Questions around data privacy, bias in AI algorithms, and the societal impact of AI systems are hot topics in the field. It is essential for AI developers and users to navigate these ethical dilemmas responsibly to ensure that AI technology is used for the greater good of society.\n",
      "\n",
      "## Key Players in Artificial Intelligence\n",
      "\n",
      "Several key players are driving innovation and shaping the AI industry. Google Brain, known for its research in deep learning and AI applications, has been at the forefront of AI advancements. OpenAI, a research organization focused on developing safe AI, is pioneering breakthroughs in machine learning and AI ethics. IBM Watson, Microsoft Azure AI, and NVIDIA are also major players in the AI space, providing cutting-edge AI solutions to businesses and consumers worldwide.\n",
      "\n",
      "## Noteworthy News in Artificial Intelligence\n",
      "\n",
      "Recent news in the AI field has highlighted the impact of AI-powered healthcare diagnostics, with breakthroughs in disease detection and treatment. AI-driven customer service improvements are also making waves, with virtual assistants and chatbots enhancing customer experiences. Ethical debates surrounding AI decision-making processes are sparking discussions on the responsible use of AI technology, while AI's role in sustainability and climate change solutions is offering new possibilities for addressing environmental challenges.\n",
      "\n",
      "## Ethical Considerations in AI Development\n",
      "\n",
      "As AI technology becomes more pervasive in our daily lives, addressing ethical considerations in AI development is critical. From ensuring transparent and accountable AI decision-making processes to mitigating bias in AI algorithms, ethical guidelines are essential for the responsible deployment of AI systems. Organizations and policymakers must collaborate to establish ethical frameworks that prioritize the well-being of individuals and society at large.\n",
      "\n",
      "## Call to Action\n",
      "\n",
      "In conclusion, staying informed on the latest AI trends and engaging in discussions on AI ethics is crucial for professionals in technology, business leaders, and students interested in AI. By understanding the latest trends, key players, and ethical considerations in AI development, we can harness the power of AI technology for positive societal impact. Let's continue to explore the potential of AI and work towards a future where AI innovation is driven by ethical principles and human values.\n",
      "\n",
      "---\n",
      "This blog post offers a comprehensive overview of the current landscape of artificial intelligence, covering the latest trends, key players, noteworthy news, and ethical considerations in the AI industry. By incorporating insights from credible sources and addressing the interests and pain points of the target audience, this article aims to provide valuable information and spark meaningful conversations around the future of AI technology.\u001b[0m\n",
      "\n",
      "\u001b[1m> Finished chain.\u001b[0m\n",
      "\u001b[1m\u001b[92m [DEBUG]: == [Editor] Task output: # The Future of Artificial Intelligence: Trends, Players, and News\n",
      "\n",
      "## Introduction\n",
      "\n",
      "Artificial intelligence (AI) has been rapidly growing and making a significant impact across various industries. From healthcare to finance and transportation, AI is revolutionizing the way businesses operate and how we interact with technology. In this blog post, we will explore the latest trends, key players, and noteworthy news in the AI field, shedding light on the advancements that are shaping the future of AI technology.\n",
      "\n",
      "## Latest Trends in Artificial Intelligence\n",
      "\n",
      "One of the most significant trends in AI is the continuous advancements in machine learning. This technology allows machines to learn from data and improve their performance over time, making AI systems more intelligent and efficient. Additionally, natural language processing (NLP) developments have enabled AI to understand and generate human language, leading to breakthroughs in areas such as virtual assistants and language translation.\n",
      "\n",
      "AI is also making waves in industries like healthcare, finance, and transportation. In healthcare, AI-powered diagnostics are improving accuracy and efficiency in disease detection, leading to better patient outcomes. In finance, AI is being used for fraud detection and risk management, enhancing security and compliance measures. In transportation, AI is driving innovations in autonomous vehicles and smart traffic management systems, revolutionizing the way we commute.\n",
      "\n",
      "As AI technology continues to advance, ethical considerations have become a crucial aspect of AI development. Questions around data privacy, bias in AI algorithms, and the societal impact of AI systems are hot topics in the field. It is essential for AI developers and users to navigate these ethical dilemmas responsibly to ensure that AI technology is used for the greater good of society.\n",
      "\n",
      "## Key Players in Artificial Intelligence\n",
      "\n",
      "Several key players are driving innovation and shaping the AI industry. Google Brain, known for its research in deep learning and AI applications, has been at the forefront of AI advancements. OpenAI, a research organization focused on developing safe AI, is pioneering breakthroughs in machine learning and AI ethics. IBM Watson, Microsoft Azure AI, and NVIDIA are also major players in the AI space, providing cutting-edge AI solutions to businesses and consumers worldwide.\n",
      "\n",
      "## Noteworthy News in Artificial Intelligence\n",
      "\n",
      "Recent news in the AI field has highlighted the impact of AI-powered healthcare diagnostics, with breakthroughs in disease detection and treatment. AI-driven customer service improvements are also making waves, with virtual assistants and chatbots enhancing customer experiences. Ethical debates surrounding AI decision-making processes are sparking discussions on the responsible use of AI technology, while AI's role in sustainability and climate change solutions is offering new possibilities for addressing environmental challenges.\n",
      "\n",
      "## Ethical Considerations in AI Development\n",
      "\n",
      "As AI technology becomes more pervasive in our daily lives, addressing ethical considerations in AI development is critical. From ensuring transparent and accountable AI decision-making processes to mitigating bias in AI algorithms, ethical guidelines are essential for the responsible deployment of AI systems. Organizations and policymakers must collaborate to establish ethical frameworks that prioritize the well-being of individuals and society at large.\n",
      "\n",
      "## Call to Action\n",
      "\n",
      "In conclusion, staying informed on the latest AI trends and engaging in discussions on AI ethics is crucial for professionals in technology, business leaders, and students interested in AI. By understanding the latest trends, key players, and ethical considerations in AI development, we can harness the power of AI technology for positive societal impact. Let's continue to explore the potential of AI and work towards a future where AI innovation is driven by ethical principles and human values.\n",
      "\n",
      "---\n",
      "This blog post offers a comprehensive overview of the current landscape of artificial intelligence, covering the latest trends, key players, noteworthy news, and ethical considerations in the AI industry. By incorporating insights from credible sources and addressing the interests and pain points of the target audience, this article aims to provide valuable information and spark meaningful conversations around the future of AI technology.\n",
      "\n",
      "\u001b[00m\n"
     ]
    }
   ],
   "source": [
    "result = crew.kickoff(inputs={\"topic\": \"Artificial Intelligence\"})"
   ]
  },
  {
   "cell_type": "markdown",
   "metadata": {},
   "source": [
    "- Display the results of your execution as markdown in the notebook."
   ]
  },
  {
   "cell_type": "code",
   "execution_count": 12,
   "metadata": {
    "height": 47
   },
   "outputs": [
    {
     "data": {
      "text/markdown": [
       "# The Future of Artificial Intelligence: Trends, Players, and News\n",
       "\n",
       "## Introduction\n",
       "\n",
       "Artificial intelligence (AI) has been rapidly growing and making a significant impact across various industries. From healthcare to finance and transportation, AI is revolutionizing the way businesses operate and how we interact with technology. In this blog post, we will explore the latest trends, key players, and noteworthy news in the AI field, shedding light on the advancements that are shaping the future of AI technology.\n",
       "\n",
       "## Latest Trends in Artificial Intelligence\n",
       "\n",
       "One of the most significant trends in AI is the continuous advancements in machine learning. This technology allows machines to learn from data and improve their performance over time, making AI systems more intelligent and efficient. Additionally, natural language processing (NLP) developments have enabled AI to understand and generate human language, leading to breakthroughs in areas such as virtual assistants and language translation.\n",
       "\n",
       "AI is also making waves in industries like healthcare, finance, and transportation. In healthcare, AI-powered diagnostics are improving accuracy and efficiency in disease detection, leading to better patient outcomes. In finance, AI is being used for fraud detection and risk management, enhancing security and compliance measures. In transportation, AI is driving innovations in autonomous vehicles and smart traffic management systems, revolutionizing the way we commute.\n",
       "\n",
       "As AI technology continues to advance, ethical considerations have become a crucial aspect of AI development. Questions around data privacy, bias in AI algorithms, and the societal impact of AI systems are hot topics in the field. It is essential for AI developers and users to navigate these ethical dilemmas responsibly to ensure that AI technology is used for the greater good of society.\n",
       "\n",
       "## Key Players in Artificial Intelligence\n",
       "\n",
       "Several key players are driving innovation and shaping the AI industry. Google Brain, known for its research in deep learning and AI applications, has been at the forefront of AI advancements. OpenAI, a research organization focused on developing safe AI, is pioneering breakthroughs in machine learning and AI ethics. IBM Watson, Microsoft Azure AI, and NVIDIA are also major players in the AI space, providing cutting-edge AI solutions to businesses and consumers worldwide.\n",
       "\n",
       "## Noteworthy News in Artificial Intelligence\n",
       "\n",
       "Recent news in the AI field has highlighted the impact of AI-powered healthcare diagnostics, with breakthroughs in disease detection and treatment. AI-driven customer service improvements are also making waves, with virtual assistants and chatbots enhancing customer experiences. Ethical debates surrounding AI decision-making processes are sparking discussions on the responsible use of AI technology, while AI's role in sustainability and climate change solutions is offering new possibilities for addressing environmental challenges.\n",
       "\n",
       "## Ethical Considerations in AI Development\n",
       "\n",
       "As AI technology becomes more pervasive in our daily lives, addressing ethical considerations in AI development is critical. From ensuring transparent and accountable AI decision-making processes to mitigating bias in AI algorithms, ethical guidelines are essential for the responsible deployment of AI systems. Organizations and policymakers must collaborate to establish ethical frameworks that prioritize the well-being of individuals and society at large.\n",
       "\n",
       "## Call to Action\n",
       "\n",
       "In conclusion, staying informed on the latest AI trends and engaging in discussions on AI ethics is crucial for professionals in technology, business leaders, and students interested in AI. By understanding the latest trends, key players, and ethical considerations in AI development, we can harness the power of AI technology for positive societal impact. Let's continue to explore the potential of AI and work towards a future where AI innovation is driven by ethical principles and human values.\n",
       "\n",
       "---\n",
       "This blog post offers a comprehensive overview of the current landscape of artificial intelligence, covering the latest trends, key players, noteworthy news, and ethical considerations in the AI industry. By incorporating insights from credible sources and addressing the interests and pain points of the target audience, this article aims to provide valuable information and spark meaningful conversations around the future of AI technology."
      ],
      "text/plain": [
       "<IPython.core.display.Markdown object>"
      ]
     },
     "execution_count": 12,
     "metadata": {},
     "output_type": "execute_result"
    }
   ],
   "source": [
    "from IPython.display import Markdown\n",
    "Markdown(result)"
   ]
  },
  {
   "cell_type": "markdown",
   "metadata": {},
   "source": [
    "<a name='1'></a>\n",
    " ## Other Popular Models as LLM for your Agents"
   ]
  },
  {
   "cell_type": "markdown",
   "metadata": {},
   "source": [
    "#### Hugging Face (HuggingFaceHub endpoint)\n",
    "\n",
    "```Python\n",
    "from langchain_community.llms import HuggingFaceHub\n",
    "\n",
    "llm = HuggingFaceHub(\n",
    "    repo_id=\"HuggingFaceH4/zephyr-7b-beta\",\n",
    "    huggingfacehub_api_token=\"<HF_TOKEN_HERE>\",\n",
    "    task=\"text-generation\",\n",
    ")\n",
    "\n",
    "### you will pass \"llm\" to your agent function\n",
    "```"
   ]
  },
  {
   "cell_type": "markdown",
   "metadata": {},
   "source": [
    "#### Mistral API\n",
    "\n",
    "```Python\n",
    "OPENAI_API_KEY=your-mistral-api-key\n",
    "OPENAI_API_BASE=https://api.mistral.ai/v1\n",
    "OPENAI_MODEL_NAME=\"mistral-small\"\n",
    "```"
   ]
  },
  {
   "cell_type": "markdown",
   "metadata": {},
   "source": [
    "#### Cohere\n",
    "\n",
    "```Python\n",
    "from langchain_community.chat_models import ChatCohere\n",
    "# Initialize language model\n",
    "os.environ[\"COHERE_API_KEY\"] = \"your-cohere-api-key\"\n",
    "llm = ChatCohere()\n",
    "\n",
    "### you will pass \"llm\" to your agent function\n",
    "```"
   ]
  },
  {
   "cell_type": "markdown",
   "metadata": {},
   "source": [
    "### For using Llama locally with Ollama and more, checkout the crewAI documentation on [Connecting to any LLM](https://docs.crewai.com/how-to/LLM-Connections/)."
   ]
  },
  {
   "cell_type": "code",
   "execution_count": null,
   "metadata": {
    "height": 30
   },
   "outputs": [],
   "source": []
  },
  {
   "cell_type": "code",
   "execution_count": null,
   "metadata": {
    "height": 30
   },
   "outputs": [],
   "source": []
  },
  {
   "cell_type": "code",
   "execution_count": null,
   "metadata": {
    "height": 30
   },
   "outputs": [],
   "source": []
  }
 ],
 "metadata": {
  "colab": {
   "gpuType": "T4",
   "provenance": []
  },
  "kernelspec": {
   "display_name": "Python 3 (ipykernel)",
   "language": "python",
   "name": "python3"
  },
  "language_info": {
   "codemirror_mode": {
    "name": "ipython",
    "version": 3
   },
   "file_extension": ".py",
   "mimetype": "text/x-python",
   "name": "python",
   "nbconvert_exporter": "python",
   "pygments_lexer": "ipython3",
   "version": "3.11.9"
  }
 },
 "nbformat": 4,
 "nbformat_minor": 4
}
